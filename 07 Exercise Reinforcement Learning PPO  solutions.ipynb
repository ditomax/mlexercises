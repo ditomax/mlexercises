{
 "cells": [
  {
   "cell_type": "markdown",
   "metadata": {},
   "source": [
    "<img src=\"header.png\" align=\"left\"/>"
   ]
  },
  {
   "cell_type": "markdown",
   "metadata": {},
   "source": [
    "# Exercise: Reinforcement Learning PPO Moon Lander (10 points)\n",
    "\n",
    "\n",
    "The goal of this exercise is to work with reinforcement learning models and get a basic understanding of the topic. We will first develop controlers for the simple cart pole model and later for the lunar lander.\n",
    "Neil Armstrong was the first to control a lunar lander in 1969. See a [video](https://youtu.be/xc1SzgGhMKc?t=520) about this masterpiece.\n",
    "Luckily, we do not have to go to the moon, but can do our experiments in simulation based on the [Openai gym](https://gym.openai.com/) software.\n",
    "\n",
    "\n",
    "\n",
    "https://uploads-ssl.webflow.com/5ca243f8aa6259298225af48/5d6603835e626f68cf2623c8_Lunar%20Lander%20Project%20Report.pdf\n",
    "\n",
    "\n",
    "**Note**: if openai gym does not install in anaconda, please install gym in your conda environment using the following commands:\n",
    "\n",
    "```\n",
    "pip install gym\n",
    "pip install box2d-py\n",
    "```\n",
    "\n",
    "**Note**: it can happend that the rendering window does not show up or close properly. In this case please check your environment and look for a solution and post it in the forum.\n"
   ]
  },
  {
   "cell_type": "markdown",
   "metadata": {},
   "source": [
    "# Module imports"
   ]
  },
  {
   "cell_type": "code",
   "execution_count": 1,
   "metadata": {},
   "outputs": [],
   "source": [
    "#\n",
    "# Turn off errors and warnings (does not work sometimes)\n",
    "#\n",
    "from warnings import simplefilter\n",
    "# ignore all future warnings\n",
    "simplefilter(action='ignore', category=FutureWarning)\n",
    "simplefilter(action='ignore', category=Warning)\n",
    "\n",
    "#\n",
    "# Import modules\n",
    "#\n",
    "import numpy as np\n",
    "import pandas as pd\n",
    "import matplotlib.pyplot as plt\n",
    "import gym\n",
    "import random\n",
    "import time\n",
    "\n",
    "from collections import deque\n"
   ]
  },
  {
   "cell_type": "code",
   "execution_count": 2,
   "metadata": {},
   "outputs": [],
   "source": [
    "#\n",
    "# Some print options for numpy\n",
    "#\n",
    "np.set_printoptions(precision=4)\n",
    "np.set_printoptions(suppress=True)"
   ]
  },
  {
   "cell_type": "code",
   "execution_count": 3,
   "metadata": {},
   "outputs": [
    {
     "name": "stdout",
     "output_type": "stream",
     "text": [
      "starting notebook with tensorflow version 2.4.1\n"
     ]
    }
   ],
   "source": [
    "#\n",
    "# Tensorflow\n",
    "#\n",
    "import tensorflow as tf\n",
    "from tensorflow import keras\n",
    "from tensorflow.keras import layers\n",
    "import scipy.signal\n",
    "\n",
    "\n",
    "\n",
    "tf.compat.v1.logging.set_verbosity(tf.compat.v1.logging.ERROR )\n",
    "\n",
    "\n",
    "#\n",
    "# Check version\n",
    "#\n",
    "print('starting notebook with tensorflow version {}'.format(tf.version.VERSION))"
   ]
  },
  {
   "cell_type": "markdown",
   "metadata": {},
   "source": [
    "# PPO Controller \n"
   ]
  },
  {
   "cell_type": "markdown",
   "metadata": {},
   "source": [
    "<div class=\"alert alert-block alert-info\">\n",
    "\n",
    "## Task\n",
    "\n",
    "Now lets build a first version based on advanced RL technique, the proximal policy optimization (PPO) strategy. \n",
    "    \n",
    "??http://arxiv.org/abs/1509.06461\n",
    "\n",
    "    \n",
    "The code is based on the work by Greg Surma and it can be found [here](https://github.com/gsurma/cartpole).\n",
    "\n",
    "\n",
    "...\n",
    "\n",
    "</div>"
   ]
  },
  {
   "cell_type": "code",
   "execution_count": 35,
   "metadata": {},
   "outputs": [],
   "source": [
    "\n",
    "prefix = './04_ppo_'\n",
    "\n",
    "# sources:\n",
    "# https://keras.io/examples/rl/ppo_cartpole/\n",
    "\n",
    "\n",
    "# Hyperparameters of the PPO algorithm\n",
    "STEPSPEREPOCH = 4000\n",
    "CLIPRATIO = 0.2\n",
    "POLICYLEARNINGRATE = 3e-4\n",
    "VALUEFUNCTIONLEARNINGRATE = 1e-3\n",
    "TRAINPOLICYITERATIONS = 80\n",
    "TRAINVALUEITERATIONS = 80\n",
    "LAM = 0.97\n",
    "TARGETKL = 0.01\n",
    "\n",
    "EPOCHS = 30\n",
    "GAMMA = 0.99\n",
    "\n",
    "\n",
    "def discounted_cumulative_sums(x, discount):\n",
    "    # Discounted cumulative sums of vectors for computing rewards-to-go and advantage estimates\n",
    "    return scipy.signal.lfilter([1], [1, float(-discount)], x[::-1], axis=0)[::-1]\n",
    "\n",
    "\n",
    "class Buffer:\n",
    "    # Buffer for storing trajectories\n",
    "    def __init__(self, observation_dimensions, size, gamma=0.99, lam=0.95):\n",
    "        # Buffer initialization\n",
    "        self.size = size\n",
    "        self.observation_buffer = np.zeros(\n",
    "            (size, observation_dimensions), dtype=np.float32\n",
    "        )\n",
    "        self.action_buffer = np.zeros(size, dtype=np.int32)\n",
    "        self.advantage_buffer = np.zeros(size, dtype=np.float32)\n",
    "        self.reward_buffer = np.zeros(size, dtype=np.float32)\n",
    "        self.return_buffer = np.zeros(size, dtype=np.float32)\n",
    "        self.value_buffer = np.zeros(size, dtype=np.float32)\n",
    "        self.logprobability_buffer = np.zeros(size, dtype=np.float32)\n",
    "        self.gamma, self.lam = gamma, lam\n",
    "        self.pointer, self.trajectory_start_index = 0, 0\n",
    "\n",
    "    def store(self, observation, action, reward, value, logprobability):\n",
    "        # Append one step of agent-environment interaction\n",
    "        if self.pointer >= self.size:\n",
    "            return\n",
    "        \n",
    "        self.observation_buffer[self.pointer] = observation\n",
    "        self.action_buffer[self.pointer] = action\n",
    "        self.reward_buffer[self.pointer] = reward\n",
    "        self.value_buffer[self.pointer] = value\n",
    "        self.logprobability_buffer[self.pointer] = logprobability\n",
    "        self.pointer += 1\n",
    "\n",
    "    def finish_trajectory(self, last_value=0):\n",
    "        # Finish the trajectory by computing advantage estimates and rewards-to-go\n",
    "        path_slice = slice(self.trajectory_start_index, self.pointer)\n",
    "        rewards = np.append(self.reward_buffer[path_slice], last_value)\n",
    "        values = np.append(self.value_buffer[path_slice], last_value)\n",
    "\n",
    "        deltas = rewards[:-1] + self.gamma * values[1:] - values[:-1]\n",
    "\n",
    "        self.advantage_buffer[path_slice] = discounted_cumulative_sums(\n",
    "            deltas, self.gamma * self.lam\n",
    "        )\n",
    "        self.return_buffer[path_slice] = discounted_cumulative_sums(\n",
    "            rewards, self.gamma\n",
    "        )[:-1]\n",
    "\n",
    "        self.trajectory_start_index = self.pointer\n",
    "\n",
    "    def get(self):\n",
    "        # Get all data of the buffer and normalize the advantages\n",
    "        self.pointer, self.trajectory_start_index = 0, 0\n",
    "        advantage_mean, advantage_std = (\n",
    "            np.mean(self.advantage_buffer),\n",
    "            np.std(self.advantage_buffer),\n",
    "        )\n",
    "        self.advantage_buffer = (self.advantage_buffer - advantage_mean) / advantage_std\n",
    "        return (\n",
    "            self.observation_buffer,\n",
    "            self.action_buffer,\n",
    "            self.advantage_buffer,\n",
    "            self.return_buffer,\n",
    "            self.logprobability_buffer,\n",
    "        )\n",
    "\n",
    "    \n",
    "   \n",
    "class PPOControl:\n",
    "    \n",
    "    def __init__(self, observation_space, action_space, hidden_sizes = (64, 64), name='nona'):\n",
    "        \n",
    "        print ('building PPO model with observation space {} and action space {} layer {} name {}'.format(observation_space, action_space,hidden_sizes,name) )\n",
    "        self.observation_dimensions = observation_space\n",
    "        self.num_actions = action_space\n",
    "\n",
    "        # Initialize the buffer\n",
    "        self.buffer = Buffer(self.observation_dimensions, STEPSPEREPOCH)\n",
    "\n",
    "        # Initialize the actor and the critic as keras models\n",
    "        observation_input = keras.Input(shape=(self.observation_dimensions,), dtype=tf.float32)\n",
    "        logits = self.mlp(observation_input, list(hidden_sizes) + [self.num_actions], tf.tanh, None)\n",
    "        self.actor = keras.Model(inputs=observation_input, outputs=logits)\n",
    "        \n",
    "        value = tf.squeeze( self.mlp(observation_input, list(hidden_sizes) + [1], tf.tanh, None), axis=1 )\n",
    "        self.critic = keras.Model(inputs=observation_input, outputs=value)\n",
    "\n",
    "        # Initialize the policy and the value function optimizers\n",
    "        self.policy_optimizer = keras.optimizers.Adam(learning_rate=POLICYLEARNINGRATE)\n",
    "        self.value_optimizer = keras.optimizers.Adam(learning_rate=VALUEFUNCTIONLEARNINGRATE)\n",
    "\n",
    "        # Initialize the observation, episode return and episode length\n",
    "        self.observation, self.episode_return, self.episode_length = env.reset(), 0, 0    \n",
    "    \n",
    "    \n",
    "    \n",
    "    \n",
    "    def mlp(self,x, sizes, activation=tf.tanh, output_activation=None):\n",
    "        # Build a feedforward neural network\n",
    "        for size in sizes[:-1]:\n",
    "            x = layers.Dense(units=size, activation=activation)(x)\n",
    "        return layers.Dense(units=sizes[-1], activation=output_activation)(x)\n",
    "\n",
    "\n",
    "    def logprobabilities(self,logits, a):\n",
    "        # Compute the log-probabilities of taking actions a by using the logits (i.e. the output of the actor)\n",
    "        logprobabilities_all = tf.nn.log_softmax(logits)\n",
    "        logprobability = tf.reduce_sum(\n",
    "            tf.one_hot(a, self.num_actions) * logprobabilities_all, axis=1\n",
    "        )\n",
    "        return logprobability\n",
    "\n",
    "\n",
    "    # Sample action from actor\n",
    "    @tf.function\n",
    "    def sample_action(self,observation):\n",
    "        logits = self.actor(observation)\n",
    "        action = tf.squeeze( tf.random.categorical(logits, 1), axis=1 )\n",
    "        return logits, action\n",
    "\n",
    "    \n",
    "    def action(self,observation):\n",
    "        logits, action = self.sample_action(observation)\n",
    "        return action[0].numpy()\n",
    "    \n",
    "\n",
    "    # Train the policy by maxizing the PPO-Clip objective\n",
    "    @tf.function\n",
    "    def train_policy(self,observation_buffer, action_buffer, logprobability_buffer, advantage_buffer):\n",
    "\n",
    "        with tf.GradientTape() as tape:  # Record operations for automatic differentiation.\n",
    "            ratio = tf.exp(\n",
    "                self.logprobabilities(self.actor(observation_buffer), action_buffer) - logprobability_buffer\n",
    "            )\n",
    "            min_advantage = tf.where(\n",
    "                advantage_buffer > 0,\n",
    "                (1 + CLIPRATIO) * advantage_buffer,\n",
    "                (1 - CLIPRATIO) * advantage_buffer,\n",
    "            )\n",
    "\n",
    "            policy_loss = -tf.reduce_mean(\n",
    "                tf.minimum(ratio * advantage_buffer, min_advantage)\n",
    "            )\n",
    "        policy_grads = tape.gradient(policy_loss, self.actor.trainable_variables)\n",
    "        self.policy_optimizer.apply_gradients(zip(policy_grads, self.actor.trainable_variables))\n",
    "\n",
    "        kl = tf.reduce_mean(\n",
    "            logprobability_buffer\n",
    "            - self.logprobabilities(self.actor(observation_buffer), action_buffer)\n",
    "        )\n",
    "        kl = tf.reduce_sum(kl)\n",
    "        return kl\n",
    "\n",
    "\n",
    "    # Train the value function by regression on mean-squared error\n",
    "    @tf.function\n",
    "    def train_value_function(self,observation_buffer, return_buffer):\n",
    "        with tf.GradientTape() as tape:  # Record operations for automatic differentiation.\n",
    "            value_loss = tf.reduce_mean((return_buffer - self.critic(observation_buffer)) ** 2)\n",
    "        value_grads = tape.gradient(value_loss, self.critic.trainable_variables)\n",
    "        self.value_optimizer.apply_gradients(zip(value_grads, self.critic.trainable_variables))\n",
    "    \n",
    "        "
   ]
  },
  {
   "cell_type": "code",
   "execution_count": 36,
   "metadata": {},
   "outputs": [],
   "source": [
    "def trainPPO(env,hidden_sizes = (64, 64), termination_runs=None, termination_runs_reward=None, name='nona', show_env = False ):\n",
    "    \n",
    "    observation_space = env.observation_space.shape[0]\n",
    "    action_space = env.action_space.n\n",
    "    \n",
    "    controller = PPOControl(observation_space, action_space, hidden_sizes = hidden_sizes, name=name)\n",
    "    \n",
    "    history = []\n",
    "    experiments = 0\n",
    "    \n",
    "    # iterate over the number of epochs\n",
    "    for epoch in range(EPOCHS):\n",
    "        # Initialize the sum of the returns, lengths and number of episodes for each epoch\n",
    "        sum_return = 0\n",
    "        sum_length = 0\n",
    "        num_episodes = 0\n",
    "        controller.episode_length = 0\n",
    "        \n",
    "        # Iterate over the steps of each epoch\n",
    "        for t in range(STEPSPEREPOCH):\n",
    "            if show_env:\n",
    "                env.render()\n",
    "\n",
    "            # Get the logits, action, and take one step in the environment\n",
    "            observation = controller.observation.reshape(1, -1)\n",
    "            logits, action = controller.sample_action(observation)\n",
    "            observation_new, reward, done, _ = env.step(action[0].numpy())\n",
    "            \n",
    "            controller.episode_length += 1\n",
    "            \n",
    "            if termination_runs and controller.episode_length > termination_runs:\n",
    "                reward = termination_runs_reward\n",
    "                done = True\n",
    "            \n",
    "            controller.episode_return += reward\n",
    "\n",
    "            # Get the value and log-probability of the action\n",
    "            value_t = controller.critic(observation)\n",
    "            logprobability_t = controller.logprobabilities(logits, action)\n",
    "\n",
    "            # Store obs, act, rew, v_t, logp_pi_t\n",
    "            controller.buffer.store(observation, action, reward, value_t, logprobability_t)\n",
    "\n",
    "            # Update the observation\n",
    "            controller.observation = observation_new\n",
    "\n",
    "            # Finish trajectory if reached to a terminal state\n",
    "            terminal = done\n",
    "            \n",
    "            #if terminal or (t == STEPSPEREPOCH - 1) or ( termination_runs and controller.episode_length > termination_runs):\n",
    "            if terminal or ( termination_runs and controller.episode_length > termination_runs):\n",
    "                last_value = 0 if done else controller.critic(observation.reshape(1, -1))\n",
    "                controller.buffer.finish_trajectory(last_value)\n",
    "                sum_return += controller.episode_return\n",
    "                sum_length += controller.episode_length\n",
    "                num_episodes += 1\n",
    "                \n",
    "                print( 'episode: {}. return: {:.3f}. length: {}           '.format(num_episodes + 1, controller.episode_return, controller.episode_length), end=\"\\r\")\n",
    "                \n",
    "                controller.observation, controller.episode_return, controller.episode_length = env.reset(), 0, 0\n",
    "\n",
    "        if num_episodes < 1:\n",
    "            continue\n",
    "                \n",
    "                \n",
    "                \n",
    "        # Get values from the buffer\n",
    "        (\n",
    "            observation_buffer,\n",
    "            action_buffer,\n",
    "            advantage_buffer,\n",
    "            return_buffer,\n",
    "            logprobability_buffer,\n",
    "        ) = controller.buffer.get()\n",
    "\n",
    "        # update the policy and implement early stopping using KL divergence\n",
    "        for _ in range(TRAINPOLICYITERATIONS):\n",
    "            kl = controller.train_policy(\n",
    "                observation_buffer, action_buffer, logprobability_buffer, advantage_buffer\n",
    "            )\n",
    "            if kl > 1.5 * TARGETKL:\n",
    "                # Early Stopping\n",
    "                break\n",
    "\n",
    "        # update the value function\n",
    "        for _ in range(TRAINVALUEITERATIONS):\n",
    "            controller.train_value_function(observation_buffer, return_buffer)\n",
    "\n",
    "        # Print mean return and length for each epoch\n",
    "        print( '\\r', 'epoch: {}. return: {:.3f}. length: {}'.format(epoch + 1, sum_return / num_episodes, sum_length / num_episodes ))\n",
    "        \n",
    "        history.append([epoch,sum_return / num_episodes,sum_length / num_episodes])\n",
    "        \n",
    "        controller.observation, controller.episode_return, controller.episode_length = env.reset(), 0, 0\n",
    "\n",
    "    env.close()\n",
    "    return controller,history"
   ]
  },
  {
   "cell_type": "markdown",
   "metadata": {},
   "source": [
    "# Cartpole Example"
   ]
  },
  {
   "cell_type": "code",
   "execution_count": 86,
   "metadata": {},
   "outputs": [],
   "source": [
    "#\n",
    "# Create new environment\n",
    "#\n",
    "env = gym.make(\"CartPole-v1\")"
   ]
  },
  {
   "cell_type": "code",
   "execution_count": null,
   "metadata": {
    "scrolled": true
   },
   "outputs": [],
   "source": [
    "#\n",
    "# Train model using trainDQN function\n",
    "#\n",
    "control,history = trainPPO(env=env,name='cartdqn')"
   ]
  },
  {
   "cell_type": "code",
   "execution_count": 90,
   "metadata": {},
   "outputs": [],
   "source": [
    "#\n",
    "# Create dataframe from history\n",
    "#\n",
    "df = pd.DataFrame(history,columns=['epoch','mean_return','episode_length'])"
   ]
  },
  {
   "cell_type": "code",
   "execution_count": 91,
   "metadata": {},
   "outputs": [
    {
     "data": {
      "text/plain": [
       "<AxesSubplot:>"
      ]
     },
     "execution_count": 91,
     "metadata": {},
     "output_type": "execute_result"
    },
    {
     "data": {
      "image/png": "[encoded data removed]",
      "text/plain": [
       "<Figure size 432x288 with 1 Axes>"
      ]
     },
     "metadata": {
      "needs_background": "light"
     },
     "output_type": "display_data"
    }
   ],
   "source": [
    "df['mean_return'].plot()"
   ]
  },
  {
   "cell_type": "code",
   "execution_count": 92,
   "metadata": {},
   "outputs": [
    {
     "data": {
      "text/plain": [
       "<AxesSubplot:>"
      ]
     },
     "execution_count": 92,
     "metadata": {},
     "output_type": "execute_result"
    },
    {
     "data": {
      "image/png": "[encoded data removed]",
      "text/plain": [
       "<Figure size 432x288 with 1 Axes>"
      ]
     },
     "metadata": {
      "needs_background": "light"
     },
     "output_type": "display_data"
    }
   ],
   "source": [
    "df['episode_length'].plot()"
   ]
  },
  {
   "cell_type": "code",
   "execution_count": 22,
   "metadata": {},
   "outputs": [
    {
     "name": "stdout",
     "output_type": "stream",
     "text": [
      "saved model to disk as results/04_dqn_cartdqnmodel.json results/04_dqn_cartdqnmodel.h5\n"
     ]
    }
   ],
   "source": [
    "#\n",
    "# Save model for later\n",
    "#\n",
    "control.save()"
   ]
  },
  {
   "cell_type": "code",
   "execution_count": 11,
   "metadata": {},
   "outputs": [],
   "source": [
    "#\n",
    "# Test the DQL control\n",
    "#"
   ]
  },
  {
   "cell_type": "code",
   "execution_count": 12,
   "metadata": {},
   "outputs": [
    {
     "name": "stdout",
     "output_type": "stream",
     "text": [
      "building DQN model with observation space 4 and action space 2 layer [24, 24] name cartdqn\n",
      "loaded model from disk file results/04_dqn_cartdqnmodel.json results/04_dqn_cartdqnmodel.h5\n",
      " position:-0.13 pole angle:-0.94 reward:1.0 cumulated reward:100.0 d:False   a:1    \n",
      "longest run 0 with 0 restarts\n"
     ]
    }
   ],
   "source": [
    "env = gym.make('CartPole-v1')\n",
    "\n",
    "env.reset()\n",
    "\n",
    "observation_space = env.observation_space.shape[0]\n",
    "action_space = env.action_space.n\n",
    "\n",
    "control = DQNControl(observation_space, action_space, name='cartdqn')\n",
    "control.load()\n",
    "\n",
    "state = env.reset()\n",
    "cumulated_reward = 0\n",
    "restart_count = 0\n",
    "longest_run = 0\n",
    "cycle_count = 0\n",
    "\n",
    "for i in range(100):\n",
    "    \n",
    "    env.render(mode='close')\n",
    "\n",
    "    # get the next action from the controler\n",
    "    action = control.action( np.reshape(state, [1, observation_space] ) )\n",
    "    \n",
    "    # apply action to environment\n",
    "    observation, reward, done, _ = env.step( action )\n",
    "    \n",
    "    # check status\n",
    "    cumulated_reward += reward\n",
    "    cycle_count += 1\n",
    "    state = observation\n",
    "        \n",
    "    print( '\\r', 'position:{:.2f} pole angle:{:.2f} reward:{} cumulated reward:{} d:{}   a:{}    '.format(observation[2],observation[0],reward,cumulated_reward,done, action), end='' )\n",
    "    \n",
    "    if done:\n",
    "        state = env.reset()\n",
    "        cumulated_reward = 0\n",
    "        longest_run = max(longest_run,cycle_count)\n",
    "        cycle_count = 0\n",
    "        restart_count += 1\n",
    "\n",
    "    # some delay important for display to catch up\n",
    "    time.sleep(0.05)\n",
    "      \n",
    "env.close()\n",
    "\n",
    "print( '\\nlongest run {} with {} restarts'.format( longest_run, restart_count) )"
   ]
  },
  {
   "cell_type": "markdown",
   "metadata": {},
   "source": [
    "# Lunar lander problem\n",
    "\n",
    "How we are looking into the lunar lander problem. We reuse the DQN controller from above with different parameters. Configuration is taken from [2,3]. A general discussion about this approach was published in [1].\n",
    "\n",
    "- [1] https://www.researchgate.net/publication/333145451_Deep_Q-Learning_on_Lunar_Lander_Game\n",
    "- [2] https://towardsdatascience.com/ai-learning-to-land-a-rocket-reinforcement-learning-84d61f97d055\n",
    "- [3] https://medium.datadriveninvestor.com/training-the-lunar-lander-agent-with-deep-q-learning-and-its-variants-2f7ba63e822c"
   ]
  },
  {
   "cell_type": "code",
   "execution_count": 29,
   "metadata": {},
   "outputs": [],
   "source": [
    "#\n",
    "# Create new environment for lunar lander\n",
    "#\n",
    "#env = gym.make('LunarLander-v2')\n",
    "\n",
    "from gym.envs.registration import register\n",
    "\n",
    "register(\n",
    "    id='LunarLanderFuel-v1',\n",
    "    entry_point='lunar_lander_fuel:LunarLanderFuel'\n",
    ")\n",
    "\n",
    "env = gym.make('LunarLanderFuel-v1')\n",
    "\n"
   ]
  },
  {
   "cell_type": "code",
   "execution_count": 37,
   "metadata": {},
   "outputs": [],
   "source": [
    "#\n",
    "# Update some hyperparameters\n",
    "#\n",
    "# Hyperparameters of the PPO algorithm\n",
    "STEPSPEREPOCH = 800\n",
    "EPOCHS = 100\n",
    "GAMMA = 0.98\n",
    "POLICYLEARNINGRATE = 3e-4\n",
    "VALUEFUNCTIONLEARNINGRATE = 1e-3\n",
    "TRAINPOLICYITERATIONS = 80\n",
    "TRAINVALUEITERATIONS = 80\n"
   ]
  },
  {
   "cell_type": "code",
   "execution_count": 38,
   "metadata": {},
   "outputs": [
    {
     "name": "stdout",
     "output_type": "stream",
     "text": [
      "building PPO model with observation space 9 and action space 4 layer (128, 64, 32) name lunar\n",
      " epoch: 1. return: -260.605. length: 93.0           \n",
      " epoch: 2. return: -110.068. length: 87.33333333333333\n",
      " epoch: 3. return: -126.256. length: 80.55555555555556\n",
      " epoch: 4. return: -93.147. length: 87.005           \n",
      " epoch: 5. return: -66.542. length: 74.4           \n",
      " epoch: 6. return: -68.072. length: 71.2            \n",
      " epoch: 7. return: -77.931. length: 84.013           \n",
      " epoch: 8. return: -64.051. length: 86.22222222222223\n",
      " epoch: 9. return: -96.114. length: 93.50           \n",
      " epoch: 10. return: -90.046. length: 95.0           \n",
      " epoch: 11. return: -34.221. length: 110.71428571428571\n",
      " epoch: 12. return: -74.709. length: 96.125        \n",
      " epoch: 13. return: -104.118. length: 92.375       \n",
      " epoch: 14. return: -37.741. length: 96.71428571428571\n",
      " epoch: 15. return: -68.681. length: 96.0          \n",
      " epoch: 16. return: -84.606. length: 113.14285714285714\n",
      " epoch: 17. return: -61.670. length: 111.5          \n",
      " epoch: 18. return: -78.524. length: 123.5          \n",
      " epoch: 19. return: -58.559. length: 157.8          \n",
      " epoch: 20. return: -70.881. length: 158.25         \n",
      " epoch: 22. return: -387.746. length: 730.0         \n",
      " epoch: 23. return: -157.345. length: 172.5         \n",
      " epoch: 24. return: -200.002. length: 214.66666666666666\n",
      " epoch: 25. return: -39.890. length: 141.2          \n",
      " epoch: 26. return: -147.522. length: 192.75        \n",
      " epoch: 27. return: -47.232. length: 178.33333333333334\n",
      " epoch: 31. return: -250.820. length: 133.66666666666666\n",
      " epoch: 32. return: -28.376. length: 185.25        \n",
      " epoch: 33. return: -85.992. length: 130.2          \n",
      " epoch: 34. return: -60.486. length: 131.4          \n",
      " epoch: 35. return: -53.307. length: 164.75         \n",
      " epoch: 36. return: -32.990. length: 185.5         \n",
      " epoch: 37. return: -13.287. length: 172.25        \n",
      " epoch: 38. return: -4.071. length: 171.75         \n",
      " epoch: 39. return: -46.503. length: 187.33333333333334\n",
      " epoch: 40. return: -37.959. length: 225.33333333333334\n",
      " epoch: 41. return: -117.001. length: 302.5         \n",
      " epoch: 42. return: -55.962. length: 233.66666666666666\n",
      " epoch: 43. return: -88.093. length: 229.66666666666666\n",
      " epoch: 44. return: -34.600. length: 190.0         \n",
      " epoch: 45. return: -18.628. length: 190.75        \n",
      " epoch: 46. return: 14.014. length: 161.75         \n",
      " epoch: 47. return: -32.679. length: 196.25        \n",
      " epoch: 48. return: -127.834. length: 215.66666666666666\n",
      " epoch: 49. return: -109.903. length: 227.33333333333334\n",
      " epoch: 50. return: -57.064. length: 194.75         \n",
      " epoch: 51. return: -15.128. length: 187.25        \n",
      " epoch: 52. return: -46.292. length: 198.0         \n",
      " epoch: 53. return: -113.867. length: 226.33333333333334\n",
      " epoch: 54. return: -298.424. length: 348.5         \n",
      " epoch: 55. return: -93.729. length: 256.0          \n",
      " epoch: 56. return: -77.223. length: 221.66666666666666\n",
      " epoch: 57. return: -67.716. length: 227.33333333333334\n",
      " epoch: 58. return: -41.157. length: 251.66666666666666\n",
      " epoch: 59. return: -71.210. length: 252.0          \n",
      " epoch: 62. return: -296.976. length: 6.0         \n",
      " epoch: 63. return: -178.181. length: 201.0         \n",
      " epoch: 64. return: -177.938. length: 308.5         \n",
      " epoch: 65. return: -164.186. length: 365.5         \n",
      " epoch: 66. return: -73.956. length: 336.0         \n",
      " epoch: 68. return: -337.217. length: 51.0         \n",
      " epoch: 70. return: -333.097. length: 55.0         \n",
      " epoch: 72. return: -221.731. length: 523.0         \n",
      " epoch: 74. return: -275.597. length: 761.0         \n",
      " epoch: 75. return: -112.009. length: 432.0         \n",
      " epoch: 76. return: -96.062. length: 341.0         \n",
      " epoch: 77. return: -23.532. length: 259.0         \n",
      " epoch: 78. return: -377.731. length: 705.0         \n",
      " epoch: 79. return: -353.210. length: 701.0         \n",
      " epoch: 81. return: -171.815. length: 359.5         \n",
      " epoch: 83. return: -368.246. length: 282.0         \n",
      " epoch: 84. return: -457.770. length: 674.0         \n",
      " epoch: 85. return: -162.029. length: 377.5         \n",
      " epoch: 86. return: 1.866. length: 619.0         \n",
      " epoch: 88. return: -291.332. length: 422.0         \n",
      " epoch: 91. return: -150.546. length: 206.0         \n",
      " epoch: 93. return: -315.555. length: 387.0         \n",
      " epoch: 94. return: -333.307. length: 664.0         \n",
      " epoch: 95. return: -337.157. length: 665.0         \n",
      " epoch: 97. return: -336.986. length: 700.0         \n",
      " epoch: 98. return: -349.048. length: 708.0         \n",
      " epoch: 99. return: -405.403. length: 679.0         \n"
     ]
    }
   ],
   "source": [
    "#\n",
    "# Train controller\n",
    "#\n",
    "control,history = trainPPO(env=env,hidden_sizes = (128, 64, 32), name='lunar', show_env=True )"
   ]
  },
  {
   "cell_type": "code",
   "execution_count": 39,
   "metadata": {},
   "outputs": [],
   "source": [
    "#\n",
    "# Create dataframe from history\n",
    "#\n",
    "df = pd.DataFrame(history,columns=['epoch','mean_return','episode_length'])"
   ]
  },
  {
   "cell_type": "code",
   "execution_count": 40,
   "metadata": {},
   "outputs": [
    {
     "data": {
      "text/plain": [
       "<AxesSubplot:>"
      ]
     },
     "execution_count": 40,
     "metadata": {},
     "output_type": "execute_result"
    },
    {
     "data": {
      "image/png": "[encoded data removed]",
      "text/plain": [
       "<Figure size 432x288 with 1 Axes>"
      ]
     },
     "metadata": {
      "needs_background": "light"
     },
     "output_type": "display_data"
    }
   ],
   "source": [
    "df['mean_return'].plot()\n",
    "df['episode_length'].plot()"
   ]
  },
  {
   "cell_type": "markdown",
   "metadata": {},
   "source": [
    "# Testing Lunar Lander"
   ]
  },
  {
   "cell_type": "code",
   "execution_count": 54,
   "metadata": {},
   "outputs": [
    {
     "name": "stdout",
     "output_type": "stream",
     "text": [
      "round 0 with cumulated reward:0    round 1 with cumulated reward:0    round 2 with cumulated reward:0    "
     ]
    },
    {
     "ename": "KeyboardInterrupt",
     "evalue": "",
     "output_type": "error",
     "traceback": [
      "\u001b[0;31m---------------------------------------------------------------------------\u001b[0m",
      "\u001b[0;31mKeyboardInterrupt\u001b[0m                         Traceback (most recent call last)",
      "\u001b[0;32m/tmp/ipykernel_1365768/297843615.py\u001b[0m in \u001b[0;36m<module>\u001b[0;34m\u001b[0m\n\u001b[1;32m     35\u001b[0m \u001b[0;34m\u001b[0m\u001b[0m\n\u001b[1;32m     36\u001b[0m     \u001b[0;31m# some delay important for display to catch up\u001b[0m\u001b[0;34m\u001b[0m\u001b[0;34m\u001b[0m\u001b[0;34m\u001b[0m\u001b[0m\n\u001b[0;32m---> 37\u001b[0;31m     \u001b[0mtime\u001b[0m\u001b[0;34m.\u001b[0m\u001b[0msleep\u001b[0m\u001b[0;34m(\u001b[0m\u001b[0;36m0.05\u001b[0m\u001b[0;34m)\u001b[0m\u001b[0;34m\u001b[0m\u001b[0;34m\u001b[0m\u001b[0m\n\u001b[0m\u001b[1;32m     38\u001b[0m \u001b[0;34m\u001b[0m\u001b[0m\n\u001b[1;32m     39\u001b[0m \u001b[0menv\u001b[0m\u001b[0;34m.\u001b[0m\u001b[0mclose\u001b[0m\u001b[0;34m(\u001b[0m\u001b[0;34m)\u001b[0m\u001b[0;34m\u001b[0m\u001b[0;34m\u001b[0m\u001b[0m\n",
      "\u001b[0;31mKeyboardInterrupt\u001b[0m: "
     ]
    }
   ],
   "source": [
    "env.reset()\n",
    "observation_space = env.observation_space.shape[0]\n",
    "action_space = env.action_space.n\n",
    "\n",
    "#control = DQNControl(observation_space, action_space, name='lunar')\n",
    "#control.load()\n",
    "\n",
    "state = env.reset()\n",
    "cumulated_reward = 0\n",
    "restart_count = 0\n",
    "longest_run = 0\n",
    "cycle_count = 0\n",
    "\n",
    "while True:\n",
    "    \n",
    "    env.render(mode='close')\n",
    "\n",
    "    # get the next action from the controler\n",
    "    action = control.action( np.reshape(state, [1, observation_space] ) )\n",
    "    \n",
    "    # apply action to environment\n",
    "    observation, reward, done, _ = env.step( action )\n",
    "    \n",
    "    # check status\n",
    "    cumulated_reward += reward\n",
    "    cycle_count += 1\n",
    "    state = observation\n",
    "        \n",
    "    if done:\n",
    "        state = env.reset()\n",
    "        cumulated_reward = 0\n",
    "        cycle_count = 0\n",
    "        print( 'round {} with cumulated reward:{}    '.format(restart_count,cumulated_reward), end='' )\n",
    "        restart_count += 1\n",
    "                \n",
    "    # some delay important for display to catch up\n",
    "    time.sleep(0.05)\n",
    "      \n",
    "env.close()"
   ]
  },
  {
   "cell_type": "code",
   "execution_count": 55,
   "metadata": {},
   "outputs": [
    {
     "ename": "AttributeError",
     "evalue": "'PPOControl' object has no attribute 'save'",
     "output_type": "error",
     "traceback": [
      "\u001b[0;31m---------------------------------------------------------------------------\u001b[0m",
      "\u001b[0;31mAttributeError\u001b[0m                            Traceback (most recent call last)",
      "\u001b[0;32m/tmp/ipykernel_1365768/1660795812.py\u001b[0m in \u001b[0;36m<module>\u001b[0;34m\u001b[0m\n\u001b[1;32m      1\u001b[0m \u001b[0;31m# Save model for later\u001b[0m\u001b[0;34m\u001b[0m\u001b[0;34m\u001b[0m\u001b[0;34m\u001b[0m\u001b[0m\n\u001b[0;32m----> 2\u001b[0;31m \u001b[0mcontrol\u001b[0m\u001b[0;34m.\u001b[0m\u001b[0msave\u001b[0m\u001b[0;34m(\u001b[0m\u001b[0;34m)\u001b[0m\u001b[0;34m\u001b[0m\u001b[0;34m\u001b[0m\u001b[0m\n\u001b[0m",
      "\u001b[0;31mAttributeError\u001b[0m: 'PPOControl' object has no attribute 'save'"
     ]
    }
   ],
   "source": [
    "# Save model for later\n",
    "control.save()"
   ]
  },
  {
   "cell_type": "code",
   "execution_count": null,
   "metadata": {},
   "outputs": [],
   "source": []
  },
  {
   "cell_type": "code",
   "execution_count": null,
   "metadata": {},
   "outputs": [],
   "source": []
  },
  {
   "cell_type": "code",
   "execution_count": null,
   "metadata": {},
   "outputs": [],
   "source": []
  }
 ],
 "metadata": {
  "kernelspec": {
   "display_name": "Python 3 (ipykernel)",
   "language": "python",
   "name": "python3"
  },
  "language_info": {
   "codemirror_mode": {
    "name": "ipython",
    "version": 3
   },
   "file_extension": ".py",
   "mimetype": "text/x-python",
   "name": "python",
   "nbconvert_exporter": "python",
   "pygments_lexer": "ipython3",
   "version": "3.9.5"
  }
 },
 "nbformat": 4,
 "nbformat_minor": 4
}
