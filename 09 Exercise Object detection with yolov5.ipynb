{
 "cells": [
  {
   "cell_type": "markdown",
   "metadata": {},
   "source": [
    "<img src=\"header.png\" align=\"left\"/>"
   ]
  },
  {
   "cell_type": "markdown",
   "metadata": {},
   "source": [
    "# Exercise Object detection with yolov5 (10 points)\n",
    "\n",
    "The goal of this example is to implement a modern object detection model with a custom dataset. The following steps are performed:\n",
    "\n",
    "- Installation of the yolov5 framework on local machine or in colab\n",
    "- Test of installation\n",
    "- Preparation of custom training data\n",
    "- Training of yolov5 on custom training data\n",
    "- Evaluation on custom test data\n",
    "- Analysis\n",
    "- Enhancement\n",
    "\n",
    "The dataset used will be created or extended by you during the exercise. So be prepared to create your own images.\n",
    "\n",
    "We will use yolov5 [1], a reimplementation of yolov4 [3] in pytorch [4]. In details we will follow the tutorial for training of a custom dataset as described here [2].\n",
    "\n",
    "Sources for yolov5 and the labeling tools:\n",
    "\n",
    "\n",
    "- [1] [https://github.com/ultralytics/yolov5](https://github.com/ultralytics/yolov5)\n",
    "- [2] [https://github.com/ultralytics/yolov5/wiki/Train-Custom-Data](https://github.com/ultralytics/yolov5/wiki/Train-Custom-Data)\n",
    "- [3] [https://arxiv.org/pdf/2004.10934.pdf](https://arxiv.org/pdf/2004.10934.pdf)\n",
    "- [4] [https://github.com/pytorch/pytorch](https://github.com/pytorch/pytorch)\n",
    "\n"
   ]
  },
  {
   "cell_type": "markdown",
   "metadata": {},
   "source": [
    "# Installation of yolov5"
   ]
  },
  {
   "cell_type": "markdown",
   "metadata": {},
   "source": [
    "## On a local machine\n",
    "\n",
    "\n",
    "1. Open a new terminal in a new folder for the yolov5 project.\n",
    "\n",
    "1. Create a new conda environment called yolov5\n",
    "\n",
    "```\n",
    "conda create env -n yolov5\n",
    "```\n",
    "\n",
    "1. Activate this environment\n",
    "\n",
    "```\n",
    "conda activate yolov5\n",
    "```\n",
    "\n",
    "1. Clone the yolov5 github repository\n",
    "\n",
    "```\n",
    "git clone https://github.com/ultralytics/yolov5  # clone\n",
    "```\n",
    "\n",
    "1. Change into cloned folder\n",
    "\n",
    "```\n",
    "cd yolov5\n",
    "```\n",
    "\n",
    "1. Install all required modules for yolov5\n",
    "\n",
    "```\n",
    "pip install -r requirements.txt \n",
    "```\n",
    "\n",
    "\n",
    "\n",
    "\n",
    "\n",
    "\n",
    "\n"
   ]
  },
  {
   "cell_type": "markdown",
   "metadata": {},
   "source": [
    "## On google colab\n",
    "\n",
    "Open the following link to a workbook in google colab: \n",
    "\n",
    "[![Open In Colab](https://colab.research.google.com/assets/colab-badge.svg)](https://colab.research.google.com/github/roboflow-ai/yolov5-custom-training-tutorial/blob/main/yolov5-custom-training.ipynb)\n",
    "\n",
    "\n",
    "You need a google account to use this notebook. However, it may safe you from the troubles of installing yolov5 on your labtop.\n"
   ]
  },
  {
   "cell_type": "markdown",
   "metadata": {},
   "source": [
    "# Building a dataset\n",
    "\n",
    "We are building our dataset in the online tool roboflow. \n",
    "\n",
    "1. Follow the quick start guide for roboflow https://docs.roboflow.com/quick-start\n",
    "1. Collect images for your classes and upload the images\n",
    "1. Label the images\n",
    "1. Download the resulting dataset to your machine or to colab\n",
    "1. Update the data.yml file to point from the yolov5 folder to your data files (better use absolute path)"
   ]
  },
  {
   "cell_type": "markdown",
   "metadata": {},
   "source": [
    "# Folder structure\n",
    "\n",
    "Suggested folder structure\n",
    "\n",
    "```\n",
    "project folder /\n",
    "    data /\n",
    "        data.yml\n",
    "        train /\n",
    "        test /\n",
    "        val /\n",
    "    yolov5 /\n",
    "        train.py\n",
    "        runs /\n",
    "            train /\n",
    "                expX /\n",
    "                    results.png\n",
    "                    confusion_matrix.png\n",
    "                    val_batch0_pred.png    \n",
    "\n",
    "```"
   ]
  },
  {
   "cell_type": "markdown",
   "metadata": {},
   "source": [
    "# Train the yolov5 model on the custom dataset\n",
    "\n",
    "In the folder yolov5 start the following command:\n",
    "\n",
    "\n",
    "```\n",
    "python train.py --img 416 --batch 16 --epochs 150 --data ../data/data.yaml --weights yolov5s.pt\n",
    "```\n",
    "\n",
    "We will do a joint discussion of the results in the ```runs/train/exp``` folder.\n"
   ]
  },
  {
   "cell_type": "markdown",
   "metadata": {},
   "source": [
    "# Test on validation data\n",
    "\n",
    "Run the model on the validation images.\n",
    "\n",
    "```\n",
    "python detect.py --weights ./runs/train/exp99/weights/best.pt ../data/val/\n",
    "\n",
    "```\n",
    "\n",
    "You can find the results in the folder ``` ./runs/detect/exp99 ```\n"
   ]
  },
  {
   "cell_type": "markdown",
   "metadata": {},
   "source": [
    "<div class=\"alert alert-block alert-info\">\n",
    "\n",
    "## Task\n",
    "    \n",
    "Print the validation images into a pdf together with the PDF of the dataset health page from roboflow and upload the resulting PDF (10 points)\n",
    "\n",
    "</div>"
   ]
  },
  {
   "cell_type": "code",
   "execution_count": null,
   "metadata": {},
   "outputs": [],
   "source": []
  }
 ],
 "metadata": {
  "kernelspec": {
   "display_name": "Python 3 (ipykernel)",
   "language": "python",
   "name": "python3"
  },
  "language_info": {
   "codemirror_mode": {
    "name": "ipython",
    "version": 3
   },
   "file_extension": ".py",
   "mimetype": "text/x-python",
   "name": "python",
   "nbconvert_exporter": "python",
   "pygments_lexer": "ipython3",
   "version": "3.9.9"
  }
 },
 "nbformat": 4,
 "nbformat_minor": 4
}
