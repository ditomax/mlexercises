{
 "cells": [
  {
   "cell_type": "markdown",
   "metadata": {},
   "source": [
    "<img src=\"header.png\" align=\"left\"/>"
   ]
  },
  {
   "cell_type": "markdown",
   "metadata": {},
   "source": [
    "# Installation of Anaconda\n",
    "\n"
   ]
  },
  {
   "cell_type": "markdown",
   "metadata": {},
   "source": [
    "Anaconda is a software package that combines a full installation of python and essential machine learning packages on a variety of platforms. For a long time it was very costly to get and maintain a complete and functional installation of python. Incompatibilities were to be expected after one or two updates of python modules at the latest. Anaconda solves this problem and offers additional virtual installations. This allows different versions of python and other modules to be installed on the same computer without disturbing each other."
   ]
  },
  {
   "cell_type": "markdown",
   "metadata": {},
   "source": [
    "## Download of Anaconda\n",
    "\n",
    "Visit the page of anacoda at [https://docs.anaconda.com/anaconda/install/](https://docs.anaconda.com/anaconda/install/) and look for your operating system. Select a version of anaconda with python 3.6 and the GUI or command line installer. Follow the installation instruction."
   ]
  },
  {
   "cell_type": "markdown",
   "metadata": {},
   "source": [
    "## Installation of git\n",
    "\n",
    "Git is a version control system for software. The examples for the course are stored in this Git repository. From there we will clone the current version of the examples. To do this, install git in anaconda. Open a anaconda terminal (or some other system terminal) and run the following command:\n",
    "\n",
    "```\n",
    "conda install -c anaconda git\n",
    "```"
   ]
  },
  {
   "cell_type": "markdown",
   "metadata": {},
   "source": [
    "## Check the installation\n",
    "\n",
    "After installation of anaconda, please verify the installation follwing the recommended procedure here:\n",
    "[https://docs.anaconda.com/anaconda/install/verify-install/](https://docs.anaconda.com/anaconda/install/verify-install/).\n"
   ]
  },
  {
   "cell_type": "markdown",
   "metadata": {},
   "source": [
    "## Clone the folder with the exercises\n",
    "\n",
    "The best way for cloning is to use **git**. With git, a clone can be created that makes corrections and improvements easily accessible later. First install **git** in the Anaconda System (if not already existing).\n",
    "\n",
    "```\n",
    "conda install -c anaconda git\n",
    "```\n",
    "Next CD into a folder of your choice and \n",
    "then clone the complete git repository onto your computer into the folder **mlexercises**.\n",
    "\n",
    "```\n",
    "git clone https://github.com/ditomax/mlexercises.git mlexercises\n",
    "```\n"
   ]
  },
  {
   "cell_type": "markdown",
   "metadata": {},
   "source": [
    "## Create the anaconda environment\n",
    "\n",
    "To use Anaconda with python we create an environment called **ml**. To do this, we go to the directory with the application examples in the terminal and enter the following command in the anaconda terminal (anaconda prompt):\n",
    "\n",
    "```\n",
    "conda env create -f environment.yml\n",
    "```\n",
    "\n",
    "Next, activate the environment in the terminal with the following command:\n",
    "\n",
    "```\n",
    "conda activate ml\n",
    "```\n",
    "\n"
   ]
  },
  {
   "cell_type": "markdown",
   "metadata": {},
   "source": [
    "## Update the exercises using git\n",
    "\n",
    "The data and the notebooks of the exercise may change. To get up to date the following commands are sufficient, which are executed in the directory of the exercise with active conda environment **ml**:\n",
    "\n",
    "```\n",
    "git pull origin master\n",
    "conda activate ml\n",
    "conda env update --file environment.yml\n",
    "```\n",
    "\n",
    "NOTE: if you modify a notebook, git produces an error message at this point. In order to save your work, please rename your modified file to another name and the retry the update.\n",
    "\n"
   ]
  },
  {
   "cell_type": "markdown",
   "metadata": {},
   "source": [
    "## Check anaconda, python and jupyter notebooks\n",
    "\n",
    "Go to the directory with the exercises, make sure that the correct environment is running (**ml**) and start jupyter with the command:\n",
    "\n",
    "```\n",
    "jupyter notebook\n",
    "```\n",
    "\n",
    "Next, a browser window should open and list all notebooks in the mlexercise folder. Open the notebook **00 Exercise Setup Anaconda**.\n",
    "\n",
    "Execute the pythone code below."
   ]
  },
  {
   "cell_type": "code",
   "execution_count": null,
   "metadata": {},
   "outputs": [],
   "source": [
    "import base64\n",
    "base64_message = 'V2lsbGtvbW1lbiBiZWkgcHl0aG9uIGF1ZiBBbmFjb25kYSE='\n",
    "base64_bytes = base64_message.encode('ascii')\n",
    "message_bytes = base64.b64decode(base64_bytes)\n",
    "message = message_bytes.decode('ascii')\n",
    "print(message)"
   ]
  },
  {
   "cell_type": "markdown",
   "metadata": {},
   "source": [
    "## Run notebook in google colab\n",
    "\n",
    "You can also run the exercises in google colab. You need to get a student account to do this.\n",
    "\n",
    "[![Open In Colab](https://colab.research.google.com/assets/colab-badge.svg)](https://colab.research.google.com/github/ditomax/mlexercises/blob/master/00%20Exercise%20Setup%20Anaconda.ipynb)"
   ]
  },
  {
   "cell_type": "code",
   "execution_count": null,
   "metadata": {},
   "outputs": [],
   "source": []
  }
 ],
 "metadata": {
  "kernelspec": {
   "display_name": "Python 3 (ipykernel)",
   "language": "python",
   "name": "python3"
  },
  "language_info": {
   "codemirror_mode": {
    "name": "ipython",
    "version": 3
   },
   "file_extension": ".py",
   "mimetype": "text/x-python",
   "name": "python",
   "nbconvert_exporter": "python",
   "pygments_lexer": "ipython3",
   "version": "3.9.5"
  }
 },
 "nbformat": 4,
 "nbformat_minor": 4
}
